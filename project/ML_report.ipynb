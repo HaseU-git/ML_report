{
 "cells": [
  {
   "cell_type": "markdown",
   "metadata": {
    "id": "jznB-xrY-s9c"
   },
   "source": [
    "# レポート課題 2020年度\n",
    "手書き文字データセット MNIST を使った分類問題。前処理、モデル、パラメータ調整を行って\n",
    "高精度な機械学習モデルを作成してください。精度と採用した方法、ならびにこのノートブックをGoogleフォームに提出。詳細はGithub上の README.md を参照。\n"
   ]
  },
  {
   "cell_type": "markdown",
   "metadata": {
    "id": "Lo6SezRb_F4v"
   },
   "source": [
    "MNISTの読み込みと準備"
   ]
  },
  {
   "cell_type": "code",
   "execution_count": 1,
   "metadata": {
    "id": "H6U6kp1H8lNb"
   },
   "outputs": [],
   "source": [
    "# To support both python 2 and python 3\n",
    "from __future__ import division, print_function, unicode_literals\n",
    "\n",
    "# Common imports\n",
    "import numpy as np\n",
    "import os\n",
    "\n",
    "# to make this notebook's output stable across runs\n",
    "np.random.seed(42)\n",
    "\n",
    "# To plot pretty figures\n",
    "%matplotlib inline\n",
    "import matplotlib as mpl\n",
    "import matplotlib.pyplot as plt\n",
    "mpl.rc('axes', labelsize=14)\n",
    "mpl.rc('xtick', labelsize=12)\n",
    "mpl.rc('ytick', labelsize=12)\n",
    "\n",
    "# Where to save the figures\n",
    "PROJECT_ROOT_DIR = \".\"\n",
    "CHAPTER_ID = \"classification\"\n",
    "\n",
    "def save_fig(fig_id, tight_layout=True):\n",
    "    path = os.path.join(PROJECT_ROOT_DIR, \"images\", CHAPTER_ID, fig_id + \".png\")\n",
    "    print(\"Saving figure\", fig_id)\n",
    "    if tight_layout:\n",
    "        plt.tight_layout()\n",
    "    plt.savefig(path, format='png', dpi=300)"
   ]
  },
  {
   "cell_type": "code",
   "execution_count": 2,
   "metadata": {
    "id": "O2OgquRq8mwv"
   },
   "outputs": [],
   "source": [
    "def sort_by_target(mnist):\n",
    "    reorder_train = np.array(sorted([(target, i) for i, target in enumerate(mnist.target[:60000])]))[:, 1]\n",
    "    reorder_test = np.array(sorted([(target, i) for i, target in enumerate(mnist.target[60000:])]))[:, 1]\n",
    "    mnist.data[:60000] = mnist.data[reorder_train]\n",
    "    mnist.target[:60000] = mnist.target[reorder_train]\n",
    "    mnist.data[60000:] = mnist.data[reorder_test + 60000]\n",
    "    mnist.target[60000:] = mnist.target[reorder_test + 60000]"
   ]
  },
  {
   "cell_type": "code",
   "execution_count": 3,
   "metadata": {
    "colab": {
     "base_uri": "https://localhost:8080/"
    },
    "id": "603eTw1_8tix",
    "outputId": "a662e621-be17-4915-e2be-4cd7c532f591"
   },
   "outputs": [
    {
     "data": {
      "text/plain": [
       "(array([[0., 0., 0., ..., 0., 0., 0.],\n",
       "        [0., 0., 0., ..., 0., 0., 0.],\n",
       "        [0., 0., 0., ..., 0., 0., 0.],\n",
       "        ...,\n",
       "        [0., 0., 0., ..., 0., 0., 0.],\n",
       "        [0., 0., 0., ..., 0., 0., 0.],\n",
       "        [0., 0., 0., ..., 0., 0., 0.]]),\n",
       " array([0, 0, 0, ..., 9, 9, 9], dtype=int8))"
      ]
     },
     "execution_count": 3,
     "metadata": {},
     "output_type": "execute_result"
    }
   ],
   "source": [
    "try:\n",
    "    from sklearn.datasets import fetch_openml\n",
    "    mnist = fetch_openml('mnist_784', version=1, cache=True)\n",
    "    mnist.target = mnist.target.astype(np.int8) # fetch_openml() returns targets as strings\n",
    "    sort_by_target(mnist) # fetch_openml() returns an unsorted dataset\n",
    "except ImportError:\n",
    "    from sklearn.datasets import fetch_mldata\n",
    "    mnist = fetch_mldata('MNIST original')\n",
    "mnist[\"data\"], mnist[\"target\"]"
   ]
  },
  {
   "cell_type": "code",
   "execution_count": 4,
   "metadata": {
    "colab": {
     "base_uri": "https://localhost:8080/"
    },
    "id": "jat3bmco8zPP",
    "outputId": "871cd1db-d571-4ea0-b401-735d2b6cce77"
   },
   "outputs": [
    {
     "data": {
      "text/plain": [
       "(70000, 784)"
      ]
     },
     "execution_count": 4,
     "metadata": {},
     "output_type": "execute_result"
    }
   ],
   "source": [
    "mnist.data.shape"
   ]
  },
  {
   "cell_type": "code",
   "execution_count": 5,
   "metadata": {
    "colab": {
     "base_uri": "https://localhost:8080/"
    },
    "id": "0_pI4PXn82jI",
    "outputId": "e9f7a377-1eeb-4d7f-a495-77dfb2aa9324"
   },
   "outputs": [
    {
     "data": {
      "text/plain": [
       "(70000, 784)"
      ]
     },
     "execution_count": 5,
     "metadata": {},
     "output_type": "execute_result"
    }
   ],
   "source": [
    "X, y = mnist[\"data\"], mnist[\"target\"]\n",
    "X.shape"
   ]
  },
  {
   "cell_type": "code",
   "execution_count": 6,
   "metadata": {
    "colab": {
     "base_uri": "https://localhost:8080/",
     "height": 248
    },
    "id": "AseJl2PL9V76",
    "outputId": "a45dc7a5-f8b3-4389-f300-567472fcdaab"
   },
   "outputs": [
    {
     "data": {
      "image/png": "[encoded data removed]",
      "text/plain": [
       "<Figure size 432x288 with 1 Axes>"
      ]
     },
     "metadata": {
      "needs_background": "light"
     },
     "output_type": "display_data"
    }
   ],
   "source": [
    "some_digit = X[36000]\n",
    "some_digit_image = some_digit.reshape(28, 28)\n",
    "plt.imshow(some_digit_image, cmap = mpl.cm.binary,\n",
    "           interpolation=\"nearest\")\n",
    "plt.axis(\"off\")\n",
    "\n",
    "plt.show()"
   ]
  },
  {
   "cell_type": "code",
   "execution_count": 7,
   "metadata": {
    "id": "kdHfdLry9eMS"
   },
   "outputs": [],
   "source": [
    "def plot_digit(data):\n",
    "    image = data.reshape(28, 28)\n",
    "    plt.imshow(image, cmap = mpl.cm.binary,\n",
    "               interpolation=\"nearest\")\n",
    "    plt.axis(\"off\")"
   ]
  },
  {
   "cell_type": "code",
   "execution_count": 8,
   "metadata": {
    "id": "OUmwrLHd9hTX"
   },
   "outputs": [],
   "source": [
    "# EXTRA\n",
    "def plot_digits(instances, images_per_row=10, **options):\n",
    "    size = 28\n",
    "    images_per_row = min(len(instances), images_per_row)\n",
    "    images = [instance.reshape(size,size) for instance in instances]\n",
    "    n_rows = (len(instances) - 1) // images_per_row + 1\n",
    "    row_images = []\n",
    "    n_empty = n_rows * images_per_row - len(instances)\n",
    "    images.append(np.zeros((size, size * n_empty)))\n",
    "    for row in range(n_rows):\n",
    "        rimages = images[row * images_per_row : (row + 1) * images_per_row]\n",
    "        row_images.append(np.concatenate(rimages, axis=1))\n",
    "    image = np.concatenate(row_images, axis=0)\n",
    "    plt.imshow(image, cmap = mpl.cm.binary, **options)\n",
    "    plt.axis(\"off\")"
   ]
  },
  {
   "cell_type": "code",
   "execution_count": 9,
   "metadata": {
    "colab": {
     "base_uri": "https://localhost:8080/",
     "height": 520
    },
    "id": "yHx9PZHP9jle",
    "outputId": "83bf66f1-c471-4550-f5ee-b3d4031a1f41",
    "scrolled": true
   },
   "outputs": [
    {
     "data": {
      "image/png": "[encoded data removed]",
      "text/plain": [
       "<Figure size 648x648 with 1 Axes>"
      ]
     },
     "metadata": {
      "needs_background": "light"
     },
     "output_type": "display_data"
    }
   ],
   "source": [
    "plt.figure(figsize=(9,9))\n",
    "example_images = np.r_[X[:12000:600], X[13000:30600:600], X[30600:60000:590]]\n",
    "plot_digits(example_images, images_per_row=10)\n",
    "\n",
    "plt.show()"
   ]
  },
  {
   "cell_type": "code",
   "execution_count": 10,
   "metadata": {
    "id": "o_MWZ0719nD0"
   },
   "outputs": [],
   "source": [
    "X_train, X_test, y_train, y_test = X[:60000], X[60000:], y[:60000], y[60000:]"
   ]
  },
  {
   "cell_type": "markdown",
   "metadata": {
    "id": "0V5P6AEx-OS8"
   },
   "source": [
    "## KNN 分類器を使った分類\n",
    "講義で扱った分類器や前処理、グリッドサーチ等を適用してより高い精度を求めてください。"
   ]
  },
  {
   "cell_type": "code",
   "execution_count": 11,
   "metadata": {
    "id": "z9Ze6epE9rjj"
   },
   "outputs": [],
   "source": [
    "import numpy as np\n",
    "\n",
    "shuffle_index = np.random.permutation(60000)\n",
    "X_train, y_train = X_train[shuffle_index], y_train[shuffle_index]"
   ]
  },
  {
   "cell_type": "markdown",
   "metadata": {},
   "source": [
    "<hr>\n",
    "\n",
    "# 機械学習2020年度レポート\n",
    "\n",
    "<div style=\"text-align: right;\">\n",
    "学籍番号　：20R13118  \n",
    "</div>\n",
    "<div style=\"text-align: right;\">\n",
    "課程：特別聴講学生  \n",
    "</div>\n",
    "<div style=\"text-align: right;\">\n",
    "氏名　：長谷川優太  \n",
    "</div>\n",
    "\n",
    "\n",
    "## 目的\n",
    "このレポートでは、授業の際に習ったプログラミングを中心に実際に自分の手で実装することを目的にする。\n",
    "具体的には、MNISTの手書数字のデータセットを使用して、分類を行っていくというものである。\n",
    "授業の際の演習を参考にして、自分でどのような手法を使うとどのようになるかというのを体感したいと思う。\n",
    "\n",
    "## 方法\n",
    "\n",
    "様々な手法の中でどのような手法を選択するのが良いのか、という検討が素人の自分にはわからなかった。そこで、Scikit-learnの手法選択のcheat sheetを使ってどの手法を使うのが良いのかという検討を立ててみた。\n",
    "\n",
    "[参考サイト](https://scikit-learn.org/stable/tutorial/machine_learning_map/index.html)\n",
    "![](https://scikit-learn.org/stable/_static/ml_map.png)\n",
    "\n",
    "<hr>\n",
    "\n",
    "このチートシートにしたがってどのような手法を選ぶのが良いのかというのを考えてみる。  \n",
    "すると、\n",
    "1. 50以上のデータがあるか → YES\n",
    "2. カテゴリー予測か → YES\n",
    "3. ラベルデータか → YES\n",
    "4. 100000以上のデータがあるか → NO\n",
    "\n",
    "という形で**Liner SVC**にたどり着いた。  \n",
    "この\"Linear SVC\"というモデルは、授業で扱った\"SVC\"モデルで線形カーネルのlinearを使うものとは少しばかり違うもののようである。  \n",
    "\n",
    "[参考サイト](https://scikit-learn.org/stable/modules/svm.html#classification] )\n",
    "\n",
    "\n",
    "\n",
    "\n",
    "### 【LinearSVC() 】と【SVC(kernel='lsinear')】の違い\n",
    "\n",
    "`LinearSVC()`では線形モデルとして分類していくため、`SVC(kernel='lsinear)`のようにカーネルを指定することはできない。また、`LinearSVC()`ではカーネルトリックを使用することはできない。  \n",
    "`LinearSVC`の方ではヒンジ損失関数の２乗を最小化するのに対して、通常の`SVC`では通常のヒンジ損失関数を最小化することになっているようだ。\n",
    "ヒンジ損失関数は、サポートベクターマシーンなどに用いられる損失関数で、誤分類に対してペナルティを課すというものである。\n",
    "このヒンジ関数を二乗にするかどうかはハイパーパラメータによって調整が可能なようだ。\n",
    "\n",
    "#### クラス分類の手法の違い\n",
    "`LinearSVC()`では、一対他分類器を使用しているのに対して、`SVC()`では、一対一分類器と一対他分類器の指定をすることが可能である。 それぞれの違いは、AI研究所のページによると以下のようになっている。  \n",
    "\n",
    "[引用サイト](https://ai-kenkyujo.com/term/classification/)\n",
    "\n",
    ">1対多分類器（one-vs.-rest classifier）\n",
    "クラスごとに判別式を用意し、対象データにすべての式を適用します、そして次に、最も高い確率のクラスに割り当てるというクラス分類の方法。\n",
    "\n",
    ">1対1分類器（one-vs.-one classifier）\n",
    "全個のクラスから2個を判別する式を、クラス選択分用意する。\n",
    "その後、データをすべて判別式に適用し、結果の多数決でクラスを決定するクラス分類の方法。\n",
    "\n",
    "具体的な話をすると、分類器の数に違いが出てくるようだ。今回のように10つのクラスに分けるの場合を考えてみる。One-VS-Restの場合には、10この2値分類器を学習するのに対して、One-VS-Oneの場合には、45この2値分類器を学習することになる。そのため、One-VS-Restの方が高速に学習を完了させることが可能である。ただ、各分類器に用いるデータのクラスの割合が偏ってしまう可能性があることがOne-VS-Restの短所だ。一方で、One-VS-Oneの場合には学習には時間がかかるものの、各学習に用いるデータの偏りは小さくて済むことになる。\n",
    "以下にそれぞれのクラス分類の方法について表でまとめてみた。\n",
    "\n",
    "\n",
    "|  手法| クラスの数|分類器の数|長所|短所|\n",
    "| :----: | :--:  |:--:|:--:|:--:|\n",
    "|  One-VS-Rest |n|n|学習が少ない|偏ることがある|\n",
    "|  One-VS-One  |n|n (n - 1) / 2|偏りが小さい|学習が多い|\n",
    "\n",
    "これらのことから、非確定簡単にサポートベクターマシーンを使用する際には、`LinearSVC()`、非線形な分類や、One-VS-Restなどを使用する際には、`SVC()`を使用するのが妥当ではないかと考えられる。  \n",
    "\n",
    "[参考サイト](https://scikit-learn.org/stable/auto_examples/svm/plot_iris_svc.html)  \n",
    "[参考サイト2](https://scikit-learn.org/stable/modules/svm.html#classification)  \n",
    "\n",
    "では実際に、MNISTの分類問題について取り組んでいこおうと思う。ひとまず、Scikit-learnのチートシートにしたがって、`LinearSVC()`を使用してモデルの作成をしていこうと思う。\n",
    "\n",
    "\n",
    "## 実行結果\n",
    "### LinearSVC"
   ]
  },
  {
   "cell_type": "code",
   "execution_count": 17,
   "metadata": {},
   "outputs": [
    {
     "name": "stderr",
     "output_type": "stream",
     "text": [
      "/Users/hasegawayuta/anaconda3/lib/python3.7/site-packages/sklearn/svm/base.py:929: ConvergenceWarning: Liblinear failed to converge, increase the number of iterations.\n",
      "  \"the number of iterations.\", ConvergenceWarning)\n"
     ]
    },
    {
     "data": {
      "text/plain": [
       "0.8727"
      ]
     },
     "execution_count": 17,
     "metadata": {},
     "output_type": "execute_result"
    }
   ],
   "source": [
    "# モデルの作成・学習\n",
    "from sklearn.svm import LinearSVC\n",
    "svm = LinearSVC()\n",
    "svm.fit(X_train, y_train)\n",
    "\n",
    "# 予測\n",
    "y_svm_pred = svm.predict(X_test)\n",
    "\n",
    "# スコア\n",
    "from sklearn.metrics import accuracy_score\n",
    "accuracy_score(y_test, y_svm_pred)"
   ]
  },
  {
   "cell_type": "markdown",
   "metadata": {},
   "source": [
    "### 特徴量スケーリング\n",
    "\n",
    "そのままの訓練データに対してLinearSVCのモデルで学習を行うと、スコアは**0.8727**になった。このスコアでは少し低すぎるため、訓練データの特徴量をスケーリングしたいと思う。授業で習った最小値と最大値を0~1にする正規化を試してみる。"
   ]
  },
  {
   "cell_type": "code",
   "execution_count": 18,
   "metadata": {},
   "outputs": [],
   "source": [
    "# min-maxスケーリングによる[0,1]の範囲へスケーリング\n",
    "\n",
    "from sklearn.preprocessing import MinMaxScaler\n",
    "mms = MinMaxScaler()\n",
    "X_train_norm = mms.fit_transform(X_train)\n",
    "X_test_norm = mms.transform(X_test)"
   ]
  },
  {
   "cell_type": "code",
   "execution_count": 19,
   "metadata": {},
   "outputs": [
    {
     "name": "stderr",
     "output_type": "stream",
     "text": [
      "/Users/hasegawayuta/anaconda3/lib/python3.7/site-packages/sklearn/svm/base.py:929: ConvergenceWarning: Liblinear failed to converge, increase the number of iterations.\n",
      "  \"the number of iterations.\", ConvergenceWarning)\n"
     ]
    },
    {
     "data": {
      "text/plain": [
       "0.918"
      ]
     },
     "execution_count": 19,
     "metadata": {},
     "output_type": "execute_result"
    }
   ],
   "source": [
    "# 学習\n",
    "svm.fit(X_train_norm, y_train)\n",
    "\n",
    "# 予測\n",
    "y_svm_pred = svm.predict(X_test_norm)\n",
    "\n",
    "# スコア\n",
    "accuracy_score(y_test, y_svm_pred)"
   ]
  },
  {
   "cell_type": "markdown",
   "metadata": {},
   "source": [
    "先ほどと同じLinearSVCのモデルを使用したが、特徴量スケーリングによってスコアが上昇したのが確認できた。次に、平均を0，分散を1とする標準化を試してみる。"
   ]
  },
  {
   "cell_type": "code",
   "execution_count": 20,
   "metadata": {},
   "outputs": [],
   "source": [
    "# 標準化\n",
    "    \n",
    "from sklearn.preprocessing import StandardScaler\n",
    "sc = StandardScaler()\n",
    "sc.fit(X_train)\n",
    "X_train_std = sc.transform(X_train)\n",
    "X_test_std = sc.transform(X_test)"
   ]
  },
  {
   "cell_type": "code",
   "execution_count": 21,
   "metadata": {
    "scrolled": true
   },
   "outputs": [
    {
     "name": "stderr",
     "output_type": "stream",
     "text": [
      "/Users/hasegawayuta/anaconda3/lib/python3.7/site-packages/sklearn/svm/base.py:929: ConvergenceWarning: Liblinear failed to converge, increase the number of iterations.\n",
      "  \"the number of iterations.\", ConvergenceWarning)\n"
     ]
    },
    {
     "data": {
      "text/plain": [
       "0.9086"
      ]
     },
     "execution_count": 21,
     "metadata": {},
     "output_type": "execute_result"
    }
   ],
   "source": [
    "# 学習\n",
    "svm.fit(X_train_std, y_train)\n",
    "\n",
    "# 予測\n",
    "y_svm_pred = svm.predict(X_test_std)\n",
    "\n",
    "# スコア\n",
    "accuracy_score(y_test, y_svm_pred)"
   ]
  },
  {
   "cell_type": "markdown",
   "metadata": {},
   "source": [
    "`/Users/hasegawayuta/anaconda3/lib/python3.7/site-packages/sklearn/svm/base.py:929: ConvergenceWarning: Liblinear failed to converge, increase the number of iterations.\n",
    "  \"the number of iterations.\", ConvergenceWarning)`  \n",
    "というエラーが出ているため、`max_iter=10000`に設定してもう一度モデルを作成した。  \n",
    "しかし、スコアに変化はなかった↓"
   ]
  },
  {
   "cell_type": "code",
   "execution_count": 52,
   "metadata": {},
   "outputs": [
    {
     "data": {
      "text/plain": [
       "0.918"
      ]
     },
     "execution_count": 52,
     "metadata": {},
     "output_type": "execute_result"
    }
   ],
   "source": [
    "# モデルの作成・学習\n",
    "svm = LinearSVC(max_iter=10000)\n",
    "svm.fit(X_train_norm, y_train)\n",
    "\n",
    "# 予測\n",
    "y_svm_pred = svm.predict(X_test_norm)\n",
    "\n",
    "# スコア\n",
    "accuracy_score(y_test, y_svm_pred)"
   ]
  },
  {
   "cell_type": "markdown",
   "metadata": {},
   "source": [
    "標準化した場合には、スコアが0.9086に改善したことが確認された。\n",
    "スケーリングをしていない場合、正規化した場合、標準化した場合のそれぞれの結果をまとめると以下のようになる。\n",
    "\n",
    "|なし|正規化|標準化|\n",
    "|:-:|:-:|:-:|\n",
    "|0.8727|0.918|0.9086|\n",
    "\n",
    "これらの結果から特徴量スケーリングによって実際にスコアが改善することが確認できた。\n",
    "\n",
    "<hr>\n",
    "\n",
    "先ほどのチートシートに従って、より良いモデルを探してみようと思う。\n",
    "\n",
    "![](https://scikit-learn.org/stable/_static/ml_map.png)\n",
    "\n",
    "このチートシートでは、LinearSVMがうまくいかなそうな場合には、k近傍法を使うと良いとされている。そこで、続いてはk近傍法をモデルにして学習をしてこうと思う。まずは、何も処理をしていない訓練データに、このipynbファイルをダウンロードしたといに設定されていたハイパーパラメータを指定して学習していこうと思う。\n",
    "\n",
    "### k近傍法"
   ]
  },
  {
   "cell_type": "code",
   "execution_count": 25,
   "metadata": {},
   "outputs": [
    {
     "data": {
      "text/plain": [
       "0.9691"
      ]
     },
     "execution_count": 25,
     "metadata": {},
     "output_type": "execute_result"
    }
   ],
   "source": [
    "# モデルの作成・学習\n",
    "from sklearn.neighbors import KNeighborsClassifier\n",
    "knn_clf = KNeighborsClassifier(n_jobs=-1, weights='distance', n_neighbors=1)\n",
    "knn_clf.fit(X_train, y_train)\n",
    "\n",
    "# 予測\n",
    "y_knn_pred = knn_clf.predict(X_test)\n",
    "\n",
    "# スコア\n",
    "accuracy_score(y_test, y_knn_pred)"
   ]
  },
  {
   "cell_type": "markdown",
   "metadata": {},
   "source": [
    "それでは、先ほどと同じように特徴量スケーリングをしてみたいと思う。  \n",
    "上から順に正規化をした訓練データ、標準化した訓練データを学習させたものである。"
   ]
  },
  {
   "cell_type": "code",
   "execution_count": 28,
   "metadata": {},
   "outputs": [
    {
     "data": {
      "text/plain": [
       "0.9691"
      ]
     },
     "execution_count": 28,
     "metadata": {},
     "output_type": "execute_result"
    }
   ],
   "source": [
    "# 学習\n",
    "knn_clf.fit(X_train_norm, y_train)\n",
    "\n",
    "# 予測\n",
    "y_knn_pred = knn_clf.predict(X_test_norm)\n",
    "\n",
    "# スコア\n",
    "accuracy_score(y_test, y_knn_pred)"
   ]
  },
  {
   "cell_type": "code",
   "execution_count": 27,
   "metadata": {},
   "outputs": [
    {
     "data": {
      "text/plain": [
       "0.9434"
      ]
     },
     "execution_count": 27,
     "metadata": {},
     "output_type": "execute_result"
    }
   ],
   "source": [
    "# 学習\n",
    "knn_clf.fit(X_train_std, y_train)\n",
    "\n",
    "# 予測\n",
    "y_knn_pred = knn_clf.predict(X_test_std)\n",
    "\n",
    "# スコア\n",
    "accuracy_score(y_test, y_knn_pred)"
   ]
  },
  {
   "cell_type": "markdown",
   "metadata": {},
   "source": [
    "これら3つの結果から、\n",
    "\n",
    "|なし|正規化|標準化|\n",
    "|:-:|:-:|:-:|\n",
    "|0.9691|0.9691|0.9434|\n",
    "\n",
    "というスコアになった。このことから特徴量スケーリングが必ずしもスコアを改善させるとは限らないということがわかった。  \n",
    "原因について考えてみたが、自分では結論を出すことができなかった。  \n",
    "\n",
    "次に、授業で習った適切なハイパーパラメータを探すグリッドサーチをやっていきたいと思う。授業ではfor文を回してパイプラインを使用してやっていたが、学習時間が予想以上にかかることから、一つ一つセルで実行していくっことにする。\n",
    "ハイパーパラメータの探索対象は、`n_neighbors`（近傍オブジェクト数）でいくつの点を探すかというものである。\n",
    "\n",
    "### グリッドサーチ、クロスバリデーション"
   ]
  },
  {
   "cell_type": "code",
   "execution_count": 31,
   "metadata": {},
   "outputs": [
    {
     "data": {
      "text/plain": [
       "0.9691"
      ]
     },
     "execution_count": 31,
     "metadata": {},
     "output_type": "execute_result"
    }
   ],
   "source": [
    "# モデルの作成・学習(n_neighbors=2)\n",
    "knn_clf = KNeighborsClassifier(n_jobs=-1, weights='distance', n_neighbors=2)\n",
    "knn_clf.fit(X_train, y_train)\n",
    "\n",
    "# 予測\n",
    "y_knn_pred = knn_clf.predict(X_test)\n",
    "\n",
    "# スコア\n",
    "accuracy_score(y_test, y_knn_pred)"
   ]
  },
  {
   "cell_type": "code",
   "execution_count": 32,
   "metadata": {},
   "outputs": [
    {
     "data": {
      "text/plain": [
       "0.9717"
      ]
     },
     "execution_count": 32,
     "metadata": {},
     "output_type": "execute_result"
    }
   ],
   "source": [
    "# モデルの作成・学習(n_neighbors=3)\n",
    "knn_clf = KNeighborsClassifier(n_jobs=-1, weights='distance', n_neighbors=3)\n",
    "knn_clf.fit(X_train, y_train)\n",
    "\n",
    "# 予測\n",
    "y_knn_pred = knn_clf.predict(X_test)\n",
    "\n",
    "# スコア\n",
    "accuracy_score(y_test, y_knn_pred)"
   ]
  },
  {
   "cell_type": "code",
   "execution_count": 33,
   "metadata": {},
   "outputs": [
    {
     "data": {
      "text/plain": [
       "0.9714"
      ]
     },
     "execution_count": 33,
     "metadata": {},
     "output_type": "execute_result"
    }
   ],
   "source": [
    "# モデルの作成・学習(n_neighbors=4)\n",
    "knn_clf = KNeighborsClassifier(n_jobs=-1, weights='distance', n_neighbors=4)\n",
    "knn_clf.fit(X_train, y_train)\n",
    "\n",
    "# 予測\n",
    "y_knn_pred = knn_clf.predict(X_test) \n",
    "\n",
    "# スコア\n",
    "accuracy_score(y_test, y_knn_pred)"
   ]
  },
  {
   "cell_type": "code",
   "execution_count": 34,
   "metadata": {},
   "outputs": [
    {
     "data": {
      "text/plain": [
       "0.9691"
      ]
     },
     "execution_count": 34,
     "metadata": {},
     "output_type": "execute_result"
    }
   ],
   "source": [
    "# モデルの作成・学習(n_neighbors=5)\n",
    "knn_clf = KNeighborsClassifier(n_jobs=-1, weights='distance', n_neighbors=5)\n",
    "knn_clf.fit(X_train, y_train)\n",
    "\n",
    "# 予測\n",
    "y_knn_pred = knn_clf.predict(X_test)\n",
    "\n",
    "# スコア\n",
    "accuracy_score(y_test, y_knn_pred)"
   ]
  },
  {
   "cell_type": "code",
   "execution_count": 39,
   "metadata": {},
   "outputs": [
    {
     "data": {
      "text/plain": [
       "0.9709"
      ]
     },
     "execution_count": 39,
     "metadata": {},
     "output_type": "execute_result"
    }
   ],
   "source": [
    "# モデルの作成・学習(n_neighbors=6)\n",
    "knn_clf = KNeighborsClassifier(n_jobs=-1, weights='distance', n_neighbors=6)\n",
    "knn_clf.fit(X_train, y_train)\n",
    "\n",
    "# 予測\n",
    "y_knn_pred = knn_clf.predict(X_test)\n",
    "\n",
    "# スコア\n",
    "accuracy_score(y_test, y_knn_pred)"
   ]
  },
  {
   "cell_type": "code",
   "execution_count": 42,
   "metadata": {},
   "outputs": [
    {
     "data": {
      "text/plain": [
       "0.97"
      ]
     },
     "execution_count": 42,
     "metadata": {},
     "output_type": "execute_result"
    }
   ],
   "source": [
    "# モデルの作成・学習\n",
    "knn_clf = KNeighborsClassifier(n_jobs=-1, weights='distance', n_neighbors=7)\n",
    "knn_clf.fit(X_train, y_train)\n",
    "\n",
    "# 予測\n",
    "y_knn_pred = knn_clf.predict(X_test)\n",
    "\n",
    "# スコア\n",
    "accuracy_score(y_test, y_knn_pred)"
   ]
  },
  {
   "cell_type": "code",
   "execution_count": 44,
   "metadata": {},
   "outputs": [
    {
     "data": {
      "text/plain": [
       "0.9633"
      ]
     },
     "execution_count": 44,
     "metadata": {},
     "output_type": "execute_result"
    }
   ],
   "source": [
    "# モデルの作成・学習\n",
    "knn_clf = KNeighborsClassifier(n_jobs=-1, weights='distance', n_neighbors=20)\n",
    "knn_clf.fit(X_train, y_train)\n",
    "\n",
    "# 予測\n",
    "y_knn_pred = knn_clf.predict(X_test)\n",
    "\n",
    "# スコア\n",
    "accuracy_score(y_test, y_knn_pred)"
   ]
  },
  {
   "cell_type": "markdown",
   "metadata": {},
   "source": [
    "これらの計算からハイパーパラメータとスコアの関係は以下のようになった。  \n",
    "\n",
    "|n_neighbors|1|2|3|4|5|6|7|20|\n",
    "|:-:|:-:|:-:|:-:|:-:|:-:|:-:|:-:|:-:|\n",
    "|score|0.9691|0.9691|0.9717|0.9714|0.9691|0.9709|0.97|0.9633|\n",
    "\n",
    "グリッドサーチを行う前には、n_neighborsの数値を上げるほどスコアも上昇すると考えていたが、実際にはそんなことはなく、0.97付近で少々動くだけにとどまった。おそらく、グリッドサーチで探索している幅が1刻みであったために大きな差異が生まれなかったものだと考えられる。 \n",
    "\n",
    "<hr>\n",
    "\n",
    "最後の説明可能なAIということがどういったことなのかを知りたかったため、決定木の可視化について調べてみた。  \n",
    "どうやら、scikit-learnの`sklearn.tree.export_graphviz`というのを使うことによって、決定技の分岐を可視化したものを出力できるようである。  \n",
    "[参考サイト](https://scikit-learn.org/stable/modules/generated/sklearn.tree.export_graphviz.html?highlight=export_graphviz)  \n",
    "\n",
    "また、scikit-learnの0.21.以降からは`sklearn.tree.plot_tree`でより簡単に分岐の表示がで切るようになったらしい  \n",
    "[参考サイト](https://scikit-learn.org/stable/modules/generated/sklearn.tree.plot_tree.html?highlight=plot%20tree#sklearn.tree.plot_tree)  \n",
    "\n",
    "下に、実際に決定木の分岐を表示した。\n",
    "\n",
    "### 決定木"
   ]
  },
  {
   "cell_type": "code",
   "execution_count": 53,
   "metadata": {},
   "outputs": [
    {
     "data": {
      "text/plain": [
       "0.4953"
      ]
     },
     "execution_count": 53,
     "metadata": {},
     "output_type": "execute_result"
    }
   ],
   "source": [
    "# モデルの作成\n",
    "from sklearn import tree\n",
    "dt = tree.DecisionTreeClassifier(max_depth = 3)\n",
    "dt.fit(X_train, y_train)\n",
    "\n",
    "# 予測\n",
    "y_tree_pred = dt.predict(X_test)\n",
    "\n",
    "# スコア\n",
    "accuracy_score(y_test, y_tree_pred)"
   ]
  },
  {
   "cell_type": "code",
   "execution_count": 54,
   "metadata": {},
   "outputs": [
    {
     "data": {
      "image/png": "[encoded data removed]",
      "text/plain": [
       "<Figure size 1080x720 with 1 Axes>"
      ]
     },
     "metadata": {
      "needs_background": "light"
     },
     "output_type": "display_data"
    }
   ],
   "source": [
    "import matplotlib.pyplot as plt\n",
    "\n",
    "# 決定木の視覚化\n",
    "plt.figure(figsize=(15, 10))\n",
    "tree.plot_tree(dt, filled=True)\n",
    "plt.show()"
   ]
  },
  {
   "cell_type": "markdown",
   "metadata": {},
   "source": [
    "## まとめ\n",
    "\n",
    "今回のレポートでは、MNISTのデータセットをscikit-learnの手法選択のチートシートにそってモデルを作っていった。初めは、サポートベクターマシーンの線形モデルによる分類を試みた。  \n",
    "その中で、特徴量スケーリングによってスコアがどのように変化するかについても見てきた。次に、チートシートに従ってknnのモデルを作ってみた。こちらでも特徴量スケーリングによるスコアの変化についてみた。SVMの方では特徴量スケーリングによってスコアの改善がみられたが、knnの方では特徴量スケーリングによってスコアの低下が見られた。スコアが低下した原因はわからないが、特徴量スケーリングが効果的なモデルとそうでないモデルがあるということを理解することができた。特にサポートベクターマシーンでは特徴量スケーリングが有効的であるということがわかった。  \n",
    "グリッドサーチについては、ハイパーパラメータの数が大きくなればなるほどスコアも改善するというわけではないということがわかった。  \n",
    "\n",
    "今回のモデルの中で最も高いスコアを出したのは、k近傍法モデルのn_neighbors=3の時で、scoreは0.9717であった。このことから、scikit-learnの手法選択のチートシートに従ってやれば、それなりの精度を実現することができるということがわかった。しかしながら、自分の手でデータの前処理や手法の選択、ハイパーパラメータの調整などをする必要があるということを改めて実感し、ノーフリーランチという言葉の重さを感じた。  \n",
    "また、想像以上に一つのモデルの学習に時間がかかり、非常に大変な作業であるということも感じた。  "
   ]
  },
  {
   "cell_type": "code",
   "execution_count": 55,
   "metadata": {
    "colab": {
     "base_uri": "https://localhost:8080/",
     "height": 248
    },
    "id": "6u2wipeg-Mpa",
    "outputId": "6359cf46-759a-418e-a6c6-ea11501ee66d"
   },
   "outputs": [
    {
     "data": {
      "image/png": "[encoded data removed]",
      "text/plain": [
       "<Figure size 432x288 with 1 Axes>"
      ]
     },
     "metadata": {
      "needs_background": "light"
     },
     "output_type": "display_data"
    }
   ],
   "source": [
    "#テスト結果の描画。おまけ。\n",
    "from scipy.ndimage.interpolation import shift\n",
    "def shift_digit(digit_array, dx, dy, new=0):\n",
    "    return shift(digit_array.reshape(28, 28), [dy, dx], cval=new).reshape(784)\n",
    "\n",
    "plot_digit(shift_digit(some_digit, 5, 1, new=100))"
   ]
  }
 ],
 "metadata": {
  "colab": {
   "collapsed_sections": [],
   "name": "Report_FY2020.ipynb",
   "provenance": []
  },
  "kernelspec": {
   "display_name": "Python 3",
   "language": "python",
   "name": "python3"
  },
  "language_info": {
   "codemirror_mode": {
    "name": "ipython",
    "version": 3
   },
   "file_extension": ".py",
   "mimetype": "text/x-python",
   "name": "python",
   "nbconvert_exporter": "python",
   "pygments_lexer": "ipython3",
   "version": "3.7.3"
  }
 },
 "nbformat": 4,
 "nbformat_minor": 1
}
